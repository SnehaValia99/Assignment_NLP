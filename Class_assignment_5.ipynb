{
  "nbformat": 4,
  "nbformat_minor": 0,
  "metadata": {
    "colab": {
      "name": "Class_assignment_5.ipynb",
      "provenance": [],
      "collapsed_sections": [],
      "include_colab_link": true
    },
    "kernelspec": {
      "name": "python3",
      "display_name": "Python 3"
    }
  },
  "cells": [
    {
      "cell_type": "markdown",
      "metadata": {
        "id": "view-in-github",
        "colab_type": "text"
      },
      "source": [
        "<a href=\"https://colab.research.google.com/github/SnehaValia99/Assignment_NLP/blob/master/Class_assignment_5.ipynb\" target=\"_parent\"><img src=\"https://colab.research.google.com/assets/colab-badge.svg\" alt=\"Open In Colab\"/></a>"
      ]
    },
    {
      "cell_type": "code",
      "metadata": {
        "id": "r2Hdud-4c_HY",
        "colab_type": "code",
        "colab": {
          "base_uri": "https://localhost:8080/",
          "height": 286
        },
        "outputId": "785490be-4e98-435d-ebaa-99540ab981c0"
      },
      "source": [
        "!pip install word2vec"
      ],
      "execution_count": 1,
      "outputs": [
        {
          "output_type": "stream",
          "text": [
            "Collecting word2vec\n",
            "\u001b[?25l  Downloading https://files.pythonhosted.org/packages/ce/51/5e2782b204015c8aef0ac830297c2f2735143ec90f592b9b3b909bb89757/word2vec-0.10.2.tar.gz (60kB)\n",
            "\r\u001b[K     |█████▍                          | 10kB 21.0MB/s eta 0:00:01\r\u001b[K     |██████████▉                     | 20kB 3.0MB/s eta 0:00:01\r\u001b[K     |████████████████▎               | 30kB 4.4MB/s eta 0:00:01\r\u001b[K     |█████████████████████▋          | 40kB 2.9MB/s eta 0:00:01\r\u001b[K     |███████████████████████████     | 51kB 3.6MB/s eta 0:00:01\r\u001b[K     |████████████████████████████████| 61kB 3.0MB/s \n",
            "\u001b[?25hRequirement already satisfied: six in /usr/local/lib/python3.6/dist-packages (from word2vec) (1.12.0)\n",
            "Requirement already satisfied: cython in /usr/local/lib/python3.6/dist-packages (from word2vec) (0.29.14)\n",
            "Requirement already satisfied: numpy>=1.9.2 in /usr/local/lib/python3.6/dist-packages (from word2vec) (1.17.4)\n",
            "Requirement already satisfied: scipy in /usr/local/lib/python3.6/dist-packages (from word2vec) (1.3.3)\n",
            "Requirement already satisfied: scikit-learn in /usr/local/lib/python3.6/dist-packages (from word2vec) (0.21.3)\n",
            "Requirement already satisfied: joblib>=0.11 in /usr/local/lib/python3.6/dist-packages (from scikit-learn->word2vec) (0.14.1)\n",
            "Building wheels for collected packages: word2vec\n",
            "  Building wheel for word2vec (setup.py) ... \u001b[?25l\u001b[?25hdone\n",
            "  Created wheel for word2vec: filename=word2vec-0.10.2-cp36-cp36m-linux_x86_64.whl size=128675 sha256=299935fd919090b238b6353cb83ac94001e45823e7deda1a08f32158c7d25f4a\n",
            "  Stored in directory: /root/.cache/pip/wheels/ef/9f/06/aec42532c9c37e05f936d4d586b15cfdfc9f2ffb62bd7fed1c\n",
            "Successfully built word2vec\n",
            "Installing collected packages: word2vec\n",
            "Successfully installed word2vec-0.10.2\n"
          ],
          "name": "stdout"
        }
      ]
    },
    {
      "cell_type": "code",
      "metadata": {
        "id": "v87uQGRfdGTu",
        "colab_type": "code",
        "colab": {}
      },
      "source": [
        "import pandas as pd\n",
        "import numpy as np\n",
        "from gensim.models import Word2Vec\n",
        "from nltk.corpus import stopwords\n",
        "from itertools import combinations\n",
        "import string"
      ],
      "execution_count": 0,
      "outputs": []
    },
    {
      "cell_type": "code",
      "metadata": {
        "id": "pJBYmstSdJQy",
        "colab_type": "code",
        "colab": {}
      },
      "source": [
        "\n",
        "d=pd.read_csv(\"https://raw.githubusercontent.com/zfz/twitter_corpus/master/full-corpus.csv\")\n",
        "\n",
        "t = d.copy()"
      ],
      "execution_count": 0,
      "outputs": []
    },
    {
      "cell_type": "code",
      "metadata": {
        "id": "H9wfGu9idMft",
        "colab_type": "code",
        "colab": {}
      },
      "source": [
        "t['tokenText'] = t['TweetText'].apply(lambda x: list(set(x.translate(str.maketrans('','', string.punctuation)).split())))"
      ],
      "execution_count": 0,
      "outputs": []
    },
    {
      "cell_type": "code",
      "metadata": {
        "id": "b0JLHgJgdZ7q",
        "colab_type": "code",
        "colab": {}
      },
      "source": [
        "t['tokenText'] = t['TweetText'].apply(lambda x: list(set(x.translate(str.maketrans('','', string.punctuation)).split())))"
      ],
      "execution_count": 0,
      "outputs": []
    },
    {
      "cell_type": "code",
      "metadata": {
        "id": "0TapOu7Rdc3U",
        "colab_type": "code",
        "colab": {}
      },
      "source": [
        "words = [[i] for i in list(set([y for x in t['tokenText'] for y in x]))]\n",
        "model = Word2Vec(list(words), min_count=1,size= 50,workers=3, window =3, sg = 1)"
      ],
      "execution_count": 0,
      "outputs": []
    },
    {
      "cell_type": "code",
      "metadata": {
        "id": "gUaIQ0lOdf4V",
        "colab_type": "code",
        "colab": {
          "base_uri": "https://localhost:8080/",
          "height": 826
        },
        "outputId": "b58b1a71-519c-4bfe-8d9a-e15a10dcef27"
      },
      "source": [
        "for i in words[0:10]: \n",
        "  for j in words[0:10]:\n",
        "    if j>i:\n",
        "      print(i[0],j[0],' : ',model.wv.similarity(i[0],j[0]))\n",
        "    else:\n",
        "      continue"
      ],
      "execution_count": 10,
      "outputs": [
        {
          "output_type": "stream",
          "text": [
            "nerve rules  :  -0.20968409\n",
            "internal nerve  :  -0.0472951\n",
            "internal rules  :  0.072360806\n",
            "internal mixedchik22  :  0.12626733\n",
            "httptcoTMUrucvW nerve  :  -0.18552609\n",
            "httptcoTMUrucvW internal  :  0.15625636\n",
            "httptcoTMUrucvW rules  :  0.1321422\n",
            "httptcoTMUrucvW mixedchik22  :  -0.18874463\n",
            "collega nerve  :  -0.07515726\n",
            "collega internal  :  -0.007020267\n",
            "collega httptcoTMUrucvW  :  -0.113039\n",
            "collega rules  :  0.034455277\n",
            "collega mixedchik22  :  -0.039574686\n",
            "Star nerve  :  0.026748663\n",
            "Star internal  :  0.14859259\n",
            "Star httptcoTMUrucvW  :  0.16851825\n",
            "Star rules  :  0.00649911\n",
            "Star collega  :  0.15985557\n",
            "Star acompanhando  :  -0.03040921\n",
            "Star mixedchik22  :  0.106747836\n",
            "acompanhando nerve  :  -0.25776178\n",
            "acompanhando internal  :  0.26607257\n",
            "acompanhando httptcoTMUrucvW  :  0.038061954\n",
            "acompanhando rules  :  0.01798316\n",
            "acompanhando collega  :  -0.10774043\n",
            "acompanhando mixedchik22  :  0.081260994\n",
            "mixedchik22 nerve  :  0.22618806\n",
            "mixedchik22 rules  :  -0.27036786\n",
            "IP nerve  :  -0.08803333\n",
            "IP internal  :  -0.07836692\n",
            "IP httptcoTMUrucvW  :  0.0143858865\n",
            "IP rules  :  -0.016092056\n",
            "IP collega  :  0.037781514\n",
            "IP Star  :  -0.16770132\n",
            "IP acompanhando  :  0.0022236211\n",
            "IP mixedchik22  :  -0.15115525\n",
            "IP Market  :  0.09802829\n",
            "Market nerve  :  0.29754514\n",
            "Market internal  :  0.10670428\n",
            "Market httptcoTMUrucvW  :  -0.10596165\n",
            "Market rules  :  0.18374896\n",
            "Market collega  :  -0.058530144\n",
            "Market Star  :  0.034884304\n",
            "Market acompanhando  :  0.094781436\n",
            "Market mixedchik22  :  0.13545567\n"
          ],
          "name": "stdout"
        },
        {
          "output_type": "stream",
          "text": [
            "/usr/local/lib/python3.6/dist-packages/gensim/matutils.py:737: FutureWarning: Conversion of the second argument of issubdtype from `int` to `np.signedinteger` is deprecated. In future, it will be treated as `np.int64 == np.dtype(int).type`.\n",
            "  if np.issubdtype(vec.dtype, np.int):\n"
          ],
          "name": "stderr"
        }
      ]
    }
  ]
}