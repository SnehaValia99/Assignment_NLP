{
  "nbformat": 4,
  "nbformat_minor": 0,
  "metadata": {
    "colab": {
      "name": "Class assignment 1.ipynb",
      "provenance": [],
      "collapsed_sections": [],
      "include_colab_link": true
    },
    "kernelspec": {
      "name": "python3",
      "display_name": "Python 3"
    }
  },
  "cells": [
    {
      "cell_type": "markdown",
      "metadata": {
        "id": "view-in-github",
        "colab_type": "text"
      },
      "source": [
        "<a href=\"https://colab.research.google.com/github/SnehaValia99/Assignment_NLP/blob/master/Class_assignment_1.ipynb\" target=\"_parent\"><img src=\"https://colab.research.google.com/assets/colab-badge.svg\" alt=\"Open In Colab\"/></a>"
      ]
    },
    {
      "cell_type": "markdown",
      "metadata": {
        "id": "6huR_I76PUfW",
        "colab_type": "text"
      },
      "source": [
        "# Check & print nth prime number\n"
      ]
    },
    {
      "cell_type": "code",
      "metadata": {
        "id": "RLwTWZu_cIoy",
        "colab_type": "code",
        "colab": {}
      },
      "source": [
        "def np(n):\n",
        "  if n == 1:\n",
        "    return 2\n",
        "  count = 1\n",
        "  num = 1\n",
        "  while(count < n):\n",
        "    num += 2\n",
        "    if(Prime(num)):\n",
        "      count += 1\n",
        "  return num \n",
        "\n",
        "def Prime(n):\n",
        "  factor = 0\n",
        "  for x in range(2, int(n**1/2) + 1):\n",
        "    if n % x == 0:\n",
        "      break\n",
        "  if factor == 1:\n",
        "    return False\n",
        "  else:\n",
        "    return True\n",
        "\n",
        "\n",
        "print(\"Nth prime number is: \",np(7))"
      ],
      "execution_count": 0,
      "outputs": []
    }
  ]
}